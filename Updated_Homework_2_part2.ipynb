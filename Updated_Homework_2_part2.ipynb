{
 "cells": [
  {
   "cell_type": "markdown",
   "id": "56362576",
   "metadata": {
    "id": "56362576"
   },
   "source": [
    "# Homework 2\n",
    "\n",
    "*courtesy of Dr. Tim Oats\n",
    "\n",
    "In this homework we'll explore decision trees and overfitting, and learn about the right way to evaluate the performance of a classifier."
   ]
  },
  {
   "cell_type": "code",
   "execution_count": 1,
   "id": "d5cb5b7d",
   "metadata": {
    "executionInfo": {
     "elapsed": 3206,
     "status": "ok",
     "timestamp": 1726752473194,
     "user": {
      "displayName": "Nicholas Waytowich",
      "userId": "15806470163163349631"
     },
     "user_tz": 240
    },
    "id": "d5cb5b7d"
   },
   "outputs": [],
   "source": [
    "from sklearn import datasets\n",
    "from sklearn import tree\n",
    "from sklearn.model_selection import train_test_split\n",
    "from sklearn.metrics import accuracy_score\n",
    "import numpy as np\n",
    "import random\n",
    "from sklearn.tree import export_text\n",
    "import matplotlib.pyplot as plt"
   ]
  },
  {
   "cell_type": "code",
   "execution_count": 1,
   "id": "4f705984",
   "metadata": {
    "executionInfo": {
     "elapsed": 217,
     "status": "ok",
     "timestamp": 1726752566758,
     "user": {
      "displayName": "Nicholas Waytowich",
      "userId": "15806470163163349631"
     },
     "user_tz": 240
    },
    "id": "4f705984"
   },
   "outputs": [],
   "source": [
    "def make_dataset(n, d = 4, p = 0):\n",
    "    \"\"\"\n",
    "    Create a dataset with boolean features and a binary class label.\n",
    "    The label is assigned as x1 ^ x2 V x3 ^ x4.\n",
    "\n",
    "    Arguments:\n",
    "      n - The number of instances to generate\n",
    "      m - The number of features per instance.  Any features beyond the first four\n",
    "          are irrelevant to determining the class label.\n",
    "      p - The probability that the true class label as computed by the expression\n",
    "          above is flipped.  Said differently, this is the probability of class noise.\n",
    "    \"\"\"\n",
    "\n",
    "    assert d >= 4, 'The dataset must have at least 4 features'\n",
    "    X = [np.random.randint(2, size = d) for _ in range(n)]\n",
    "    y = [(x[0] and x[1]) or (x[2] and x[3]) for x in X]\n",
    "    y = [v if random.random() >= p else (v + 1) % 2 for v in y]\n",
    "    return X, y"
   ]
  },
  {
   "cell_type": "markdown",
   "id": "e655d42d",
   "metadata": {
    "id": "e655d42d"
   },
   "source": [
    "When evaluating the accuracy of a classifier, the right way to do it is to have a test set of instances that were not used to train the classifier and measure on those instances.  The [train_test_split()](https://scikit-learn.org/stable/modules/generated/sklearn.model_selection.train_test_split.html) function in scikit makes it easy to create training and testing sets.  Below is an example that shows overfitting as evidenced by higher accuracy on the training set than the testing set."
   ]
  },
  {
   "cell_type": "code",
   "execution_count": 3,
   "id": "c9296ffb",
   "metadata": {
    "executionInfo": {
     "elapsed": 5,
     "status": "ok",
     "timestamp": 1726752569499,
     "user": {
      "displayName": "Nicholas Waytowich",
      "userId": "15806470163163349631"
     },
     "user_tz": 240
    },
    "id": "c9296ffb"
   },
   "outputs": [],
   "source": [
    "# Create a dataset with 1000 instances, each with 10 attributes, and 10% class noise\n",
    "X, y = make_dataset(1000, d = 10, p = 0.1)"
   ]
  },
  {
   "cell_type": "code",
   "execution_count": 4,
   "id": "68be6e50",
   "metadata": {
    "executionInfo": {
     "elapsed": 193,
     "status": "ok",
     "timestamp": 1726752572017,
     "user": {
      "displayName": "Nicholas Waytowich",
      "userId": "15806470163163349631"
     },
     "user_tz": 240
    },
    "id": "68be6e50"
   },
   "outputs": [],
   "source": [
    "# Make training and testing sets, each with half of the data\n",
    "X_train, X_test, y_train, y_test = train_test_split(X, y, test_size=0.5, train_size=0.5)"
   ]
  },
  {
   "cell_type": "code",
   "execution_count": 5,
   "id": "c9c91fa8",
   "metadata": {
    "colab": {
     "base_uri": "https://localhost:8080/"
    },
    "executionInfo": {
     "elapsed": 217,
     "status": "ok",
     "timestamp": 1726752573499,
     "user": {
      "displayName": "Nicholas Waytowich",
      "userId": "15806470163163349631"
     },
     "user_tz": 240
    },
    "id": "c9c91fa8",
    "outputId": "ce1ecb18-3836-42f6-efda-f3557e907e85"
   },
   "outputs": [
    {
     "name": "stdout",
     "output_type": "stream",
     "text": [
      "Training accuracy: 0.96\n",
      "Testing accuracy:  0.83\n"
     ]
    }
   ],
   "source": [
    "# Train the decision tree classifier and evaluate it on train/test splits\n",
    "clf = tree.DecisionTreeClassifier()\n",
    "clf.fit(X_train, y_train)\n",
    "print('Training accuracy: %.2f' % accuracy_score(y_train, clf.predict(X_train)))\n",
    "print('Testing accuracy:  %.2f' % accuracy_score(y_test, clf.predict(X_test)))"
   ]
  },
  {
   "cell_type": "markdown",
   "id": "4b80c59b",
   "metadata": {
    "id": "4b80c59b"
   },
   "source": [
    "Note that if the training set has 0% class noise, we get a perfect tree.  Spend some time convincing yourself that the tree below captures the boolean expression that assigns class labels."
   ]
  },
  {
   "cell_type": "code",
   "execution_count": null,
   "id": "119f8f27",
   "metadata": {
    "id": "119f8f27",
    "outputId": "8caecbbd-9adb-4f9d-ce76-34efe51371e9"
   },
   "outputs": [
    {
     "name": "stdout",
     "output_type": "stream",
     "text": [
      "|--- feature_3 <= 0.50\n",
      "|   |--- feature_1 <= 0.50\n",
      "|   |   |--- class: 0\n",
      "|   |--- feature_1 >  0.50\n",
      "|   |   |--- feature_0 <= 0.50\n",
      "|   |   |   |--- class: 0\n",
      "|   |   |--- feature_0 >  0.50\n",
      "|   |   |   |--- class: 1\n",
      "|--- feature_3 >  0.50\n",
      "|   |--- feature_2 <= 0.50\n",
      "|   |   |--- feature_0 <= 0.50\n",
      "|   |   |   |--- class: 0\n",
      "|   |   |--- feature_0 >  0.50\n",
      "|   |   |   |--- feature_1 <= 0.50\n",
      "|   |   |   |   |--- class: 0\n",
      "|   |   |   |--- feature_1 >  0.50\n",
      "|   |   |   |   |--- class: 1\n",
      "|   |--- feature_2 >  0.50\n",
      "|   |   |--- class: 1\n",
      "\n"
     ]
    }
   ],
   "source": [
    "X, y = make_dataset(1000, d = 10, p = 0.0)\n",
    "X_train, X_test, y_train, y_test = train_test_split(X, y, test_size=0.5, train_size=0.5)\n",
    "clf = tree.DecisionTreeClassifier()\n",
    "clf.fit(X_train, y_train)\n",
    "print(export_text(clf))"
   ]
  },
  {
   "cell_type": "markdown",
   "id": "f89da077",
   "metadata": {
    "id": "f89da077"
   },
   "source": [
    "# Assignment\n",
    "\n",
    "Explore the impact of the following on the extent of overfitting:\n",
    "* The size of the dataset (n in the call to make_dataset)\n",
    "* The number of irrelevant features (d in the call to make_dataset)\n",
    "* The probability of class noise (p in the call to make_dataset)\n",
    "* The minimum number of samples required for a node to be split.  That is the min_samples_split parameter to the [DecisionTreeClassifier](https://scikit-learn.org/stable/modules/generated/sklearn.tree.DecisionTreeClassifier.html#sklearn.tree.DecisionTreeClassifier) constructor\n",
    "\n",
    "<p>\n",
    "    \n",
    "Vary each of the parameters above and build learning curves for training and testing accuracy, plot them, and for each of the parameters write up an explanation for the impact the parameter has on overfitting.  Also, in each case, display at least one decision tree and explain what is happening that is making it overfit."
   ]
  },
  {
   "cell_type": "markdown",
   "id": "2c30ebe7",
   "metadata": {
    "id": "2c30ebe7"
   },
   "source": [
    "Here is an example of generating a learning curve for a fixed size dataset where the fraction of instances used for training is varied.  You can use this template to create your own learning curves. *Remember to update the x-axis label (xlabel) to indicate the correct parameter the plot is showing"
   ]
  },
  {
   "cell_type": "code",
   "execution_count": 6,
   "id": "606a3a3e",
   "metadata": {
    "colab": {
     "base_uri": "https://localhost:8080/",
     "height": 466
    },
    "executionInfo": {
     "elapsed": 422,
     "status": "ok",
     "timestamp": 1726752579689,
     "user": {
      "displayName": "Nicholas Waytowich",
      "userId": "15806470163163349631"
     },
     "user_tz": 240
    },
    "id": "606a3a3e",
    "outputId": "9821467c-f32f-4385-d2ac-4328d3ccc32a"
   },
   "outputs": [
    {
     "data": {
      "text/plain": [
       "<matplotlib.legend.Legend at 0x7a02a7da78e0>"
      ]
     },
     "execution_count": 6,
     "metadata": {},
     "output_type": "execute_result"
    },
    {
     "data": {
      "image/png": "[encoded data removed]",
      "text/plain": [
       "<Figure size 640x480 with 1 Axes>"
      ]
     },
     "metadata": {},
     "output_type": "display_data"
    }
   ],
   "source": [
    "X, y = make_dataset(1000, d = 10, p = 0.1)\n",
    "\n",
    "test_acc = []\n",
    "train_acc = []\n",
    "frac = [0.1, 0.2, 0.3, 0.4, 0.5]\n",
    "for f in frac:\n",
    "    X_train, X_test, y_train, y_test = train_test_split(X, y, test_size=0.5, train_size=f)\n",
    "    clf = tree.DecisionTreeClassifier()\n",
    "    clf.fit(X_train, y_train)\n",
    "    train_acc.append(accuracy_score(y_train, clf.predict(X_train)))\n",
    "    test_acc.append(accuracy_score(y_test, clf.predict(X_test)))\n",
    "\n",
    "plt.plot(frac, train_acc, label = 'train')\n",
    "plt.plot(frac, test_acc, label = 'test')\n",
    "plt.ylabel('Accuracy')\n",
    "plt.xlabel('Train fraction')\n",
    "plt.legend()"
   ]
  },
  {
   "cell_type": "code",
   "execution_count": null,
   "id": "0feb7c3f",
   "metadata": {
    "id": "0feb7c3f",
    "outputId": "66c287a8-a83a-4cae-a6be-a2688f5ab2aa"
   },
   "outputs": [
    {
     "name": "stdout",
     "output_type": "stream",
     "text": [
      "|--- feature_2 <= 0.50\n",
      "|   |--- feature_1 <= 0.50\n",
      "|   |   |--- feature_0 <= 0.50\n",
      "|   |   |   |--- feature_7 <= 0.50\n",
      "|   |   |   |   |--- feature_3 <= 0.50\n",
      "|   |   |   |   |   |--- class: 0\n",
      "|   |   |   |   |--- feature_3 >  0.50\n",
      "|   |   |   |   |   |--- feature_6 <= 0.50\n",
      "|   |   |   |   |   |   |--- feature_4 <= 0.50\n",
      "|   |   |   |   |   |   |   |--- class: 0\n",
      "|   |   |   |   |   |   |--- feature_4 >  0.50\n",
      "|   |   |   |   |   |   |   |--- feature_8 <= 0.50\n",
      "|   |   |   |   |   |   |   |   |--- feature_9 <= 0.50\n",
      "|   |   |   |   |   |   |   |   |   |--- class: 1\n",
      "|   |   |   |   |   |   |   |   |--- feature_9 >  0.50\n",
      "|   |   |   |   |   |   |   |   |   |--- class: 0\n",
      "|   |   |   |   |   |   |   |--- feature_8 >  0.50\n",
      "|   |   |   |   |   |   |   |   |--- feature_9 <= 0.50\n",
      "|   |   |   |   |   |   |   |   |   |--- class: 0\n",
      "|   |   |   |   |   |   |   |   |--- feature_9 >  0.50\n",
      "|   |   |   |   |   |   |   |   |   |--- class: 1\n",
      "|   |   |   |   |   |--- feature_6 >  0.50\n",
      "|   |   |   |   |   |   |--- class: 0\n",
      "|   |   |   |--- feature_7 >  0.50\n",
      "|   |   |   |   |--- feature_8 <= 0.50\n",
      "|   |   |   |   |   |--- feature_4 <= 0.50\n",
      "|   |   |   |   |   |   |--- class: 0\n",
      "|   |   |   |   |   |--- feature_4 >  0.50\n",
      "|   |   |   |   |   |   |--- feature_5 <= 0.50\n",
      "|   |   |   |   |   |   |   |--- class: 0\n",
      "|   |   |   |   |   |   |--- feature_5 >  0.50\n",
      "|   |   |   |   |   |   |   |--- feature_3 <= 0.50\n",
      "|   |   |   |   |   |   |   |   |--- class: 0\n",
      "|   |   |   |   |   |   |   |--- feature_3 >  0.50\n",
      "|   |   |   |   |   |   |   |   |--- class: 1\n",
      "|   |   |   |   |--- feature_8 >  0.50\n",
      "|   |   |   |   |   |--- feature_3 <= 0.50\n",
      "|   |   |   |   |   |   |--- feature_5 <= 0.50\n",
      "|   |   |   |   |   |   |   |--- class: 0\n",
      "|   |   |   |   |   |   |--- feature_5 >  0.50\n",
      "|   |   |   |   |   |   |   |--- feature_9 <= 0.50\n",
      "|   |   |   |   |   |   |   |   |--- feature_4 <= 0.50\n",
      "|   |   |   |   |   |   |   |   |   |--- feature_6 <= 0.50\n",
      "|   |   |   |   |   |   |   |   |   |   |--- class: 0\n",
      "|   |   |   |   |   |   |   |   |   |--- feature_6 >  0.50\n",
      "|   |   |   |   |   |   |   |   |   |   |--- class: 0\n",
      "|   |   |   |   |   |   |   |   |--- feature_4 >  0.50\n",
      "|   |   |   |   |   |   |   |   |   |--- class: 0\n",
      "|   |   |   |   |   |   |   |--- feature_9 >  0.50\n",
      "|   |   |   |   |   |   |   |   |--- class: 1\n",
      "|   |   |   |   |   |--- feature_3 >  0.50\n",
      "|   |   |   |   |   |   |--- feature_9 <= 0.50\n",
      "|   |   |   |   |   |   |   |--- class: 0\n",
      "|   |   |   |   |   |   |--- feature_9 >  0.50\n",
      "|   |   |   |   |   |   |   |--- feature_5 <= 0.50\n",
      "|   |   |   |   |   |   |   |   |--- feature_4 <= 0.50\n",
      "|   |   |   |   |   |   |   |   |   |--- class: 0\n",
      "|   |   |   |   |   |   |   |   |--- feature_4 >  0.50\n",
      "|   |   |   |   |   |   |   |   |   |--- class: 1\n",
      "|   |   |   |   |   |   |   |--- feature_5 >  0.50\n",
      "|   |   |   |   |   |   |   |   |--- class: 0\n",
      "|   |   |--- feature_0 >  0.50\n",
      "|   |   |   |--- feature_6 <= 0.50\n",
      "|   |   |   |   |--- class: 0\n",
      "|   |   |   |--- feature_6 >  0.50\n",
      "|   |   |   |   |--- feature_4 <= 0.50\n",
      "|   |   |   |   |   |--- feature_7 <= 0.50\n",
      "|   |   |   |   |   |   |--- feature_8 <= 0.50\n",
      "|   |   |   |   |   |   |   |--- feature_3 <= 0.50\n",
      "|   |   |   |   |   |   |   |   |--- class: 0\n",
      "|   |   |   |   |   |   |   |--- feature_3 >  0.50\n",
      "|   |   |   |   |   |   |   |   |--- class: 0\n",
      "|   |   |   |   |   |   |--- feature_8 >  0.50\n",
      "|   |   |   |   |   |   |   |--- class: 0\n",
      "|   |   |   |   |   |--- feature_7 >  0.50\n",
      "|   |   |   |   |   |   |--- class: 0\n",
      "|   |   |   |   |--- feature_4 >  0.50\n",
      "|   |   |   |   |   |--- feature_3 <= 0.50\n",
      "|   |   |   |   |   |   |--- feature_5 <= 0.50\n",
      "|   |   |   |   |   |   |   |--- feature_9 <= 0.50\n",
      "|   |   |   |   |   |   |   |   |--- class: 1\n",
      "|   |   |   |   |   |   |   |--- feature_9 >  0.50\n",
      "|   |   |   |   |   |   |   |   |--- class: 0\n",
      "|   |   |   |   |   |   |--- feature_5 >  0.50\n",
      "|   |   |   |   |   |   |   |--- feature_9 <= 0.50\n",
      "|   |   |   |   |   |   |   |   |--- class: 0\n",
      "|   |   |   |   |   |   |   |--- feature_9 >  0.50\n",
      "|   |   |   |   |   |   |   |   |--- class: 0\n",
      "|   |   |   |   |   |--- feature_3 >  0.50\n",
      "|   |   |   |   |   |   |--- class: 0\n",
      "|   |--- feature_1 >  0.50\n",
      "|   |   |--- feature_0 <= 0.50\n",
      "|   |   |   |--- feature_8 <= 0.50\n",
      "|   |   |   |   |--- feature_4 <= 0.50\n",
      "|   |   |   |   |   |--- feature_6 <= 0.50\n",
      "|   |   |   |   |   |   |--- feature_9 <= 0.50\n",
      "|   |   |   |   |   |   |   |--- feature_5 <= 0.50\n",
      "|   |   |   |   |   |   |   |   |--- class: 0\n",
      "|   |   |   |   |   |   |   |--- feature_5 >  0.50\n",
      "|   |   |   |   |   |   |   |   |--- class: 1\n",
      "|   |   |   |   |   |   |--- feature_9 >  0.50\n",
      "|   |   |   |   |   |   |   |--- class: 0\n",
      "|   |   |   |   |   |--- feature_6 >  0.50\n",
      "|   |   |   |   |   |   |--- feature_9 <= 0.50\n",
      "|   |   |   |   |   |   |   |--- class: 0\n",
      "|   |   |   |   |   |   |--- feature_9 >  0.50\n",
      "|   |   |   |   |   |   |   |--- feature_3 <= 0.50\n",
      "|   |   |   |   |   |   |   |   |--- class: 0\n",
      "|   |   |   |   |   |   |   |--- feature_3 >  0.50\n",
      "|   |   |   |   |   |   |   |   |--- class: 0\n",
      "|   |   |   |   |--- feature_4 >  0.50\n",
      "|   |   |   |   |   |--- feature_5 <= 0.50\n",
      "|   |   |   |   |   |   |--- feature_7 <= 0.50\n",
      "|   |   |   |   |   |   |   |--- class: 0\n",
      "|   |   |   |   |   |   |--- feature_7 >  0.50\n",
      "|   |   |   |   |   |   |   |--- feature_3 <= 0.50\n",
      "|   |   |   |   |   |   |   |   |--- class: 0\n",
      "|   |   |   |   |   |   |   |--- feature_3 >  0.50\n",
      "|   |   |   |   |   |   |   |   |--- class: 0\n",
      "|   |   |   |   |   |--- feature_5 >  0.50\n",
      "|   |   |   |   |   |   |--- class: 0\n",
      "|   |   |   |--- feature_8 >  0.50\n",
      "|   |   |   |   |--- feature_9 <= 0.50\n",
      "|   |   |   |   |   |--- feature_3 <= 0.50\n",
      "|   |   |   |   |   |   |--- feature_4 <= 0.50\n",
      "|   |   |   |   |   |   |   |--- class: 0\n",
      "|   |   |   |   |   |   |--- feature_4 >  0.50\n",
      "|   |   |   |   |   |   |   |--- feature_6 <= 0.50\n",
      "|   |   |   |   |   |   |   |   |--- feature_7 <= 0.50\n",
      "|   |   |   |   |   |   |   |   |   |--- feature_5 <= 0.50\n",
      "|   |   |   |   |   |   |   |   |   |   |--- class: 0\n",
      "|   |   |   |   |   |   |   |   |   |--- feature_5 >  0.50\n",
      "|   |   |   |   |   |   |   |   |   |   |--- class: 0\n",
      "|   |   |   |   |   |   |   |   |--- feature_7 >  0.50\n",
      "|   |   |   |   |   |   |   |   |   |--- class: 0\n",
      "|   |   |   |   |   |   |   |--- feature_6 >  0.50\n",
      "|   |   |   |   |   |   |   |   |--- feature_7 <= 0.50\n",
      "|   |   |   |   |   |   |   |   |   |--- class: 0\n",
      "|   |   |   |   |   |   |   |   |--- feature_7 >  0.50\n",
      "|   |   |   |   |   |   |   |   |   |--- class: 1\n",
      "|   |   |   |   |   |--- feature_3 >  0.50\n",
      "|   |   |   |   |   |   |--- feature_7 <= 0.50\n",
      "|   |   |   |   |   |   |   |--- feature_6 <= 0.50\n",
      "|   |   |   |   |   |   |   |   |--- class: 0\n",
      "|   |   |   |   |   |   |   |--- feature_6 >  0.50\n",
      "|   |   |   |   |   |   |   |   |--- feature_4 <= 0.50\n",
      "|   |   |   |   |   |   |   |   |   |--- class: 1\n",
      "|   |   |   |   |   |   |   |   |--- feature_4 >  0.50\n",
      "|   |   |   |   |   |   |   |   |   |--- class: 0\n",
      "|   |   |   |   |   |   |--- feature_7 >  0.50\n",
      "|   |   |   |   |   |   |   |--- feature_6 <= 0.50\n",
      "|   |   |   |   |   |   |   |   |--- feature_4 <= 0.50\n",
      "|   |   |   |   |   |   |   |   |   |--- feature_5 <= 0.50\n",
      "|   |   |   |   |   |   |   |   |   |   |--- class: 1\n",
      "|   |   |   |   |   |   |   |   |   |--- feature_5 >  0.50\n",
      "|   |   |   |   |   |   |   |   |   |   |--- class: 0\n",
      "|   |   |   |   |   |   |   |   |--- feature_4 >  0.50\n",
      "|   |   |   |   |   |   |   |   |   |--- class: 0\n",
      "|   |   |   |   |   |   |   |--- feature_6 >  0.50\n",
      "|   |   |   |   |   |   |   |   |--- class: 1\n",
      "|   |   |   |   |--- feature_9 >  0.50\n",
      "|   |   |   |   |   |--- feature_5 <= 0.50\n",
      "|   |   |   |   |   |   |--- feature_6 <= 0.50\n",
      "|   |   |   |   |   |   |   |--- feature_4 <= 0.50\n",
      "|   |   |   |   |   |   |   |   |--- class: 0\n",
      "|   |   |   |   |   |   |   |--- feature_4 >  0.50\n",
      "|   |   |   |   |   |   |   |   |--- feature_7 <= 0.50\n",
      "|   |   |   |   |   |   |   |   |   |--- class: 0\n",
      "|   |   |   |   |   |   |   |   |--- feature_7 >  0.50\n",
      "|   |   |   |   |   |   |   |   |   |--- class: 0\n",
      "|   |   |   |   |   |   |--- feature_6 >  0.50\n",
      "|   |   |   |   |   |   |   |--- class: 1\n",
      "|   |   |   |   |   |--- feature_5 >  0.50\n",
      "|   |   |   |   |   |   |--- feature_6 <= 0.50\n",
      "|   |   |   |   |   |   |   |--- feature_7 <= 0.50\n",
      "|   |   |   |   |   |   |   |   |--- class: 0\n",
      "|   |   |   |   |   |   |   |--- feature_7 >  0.50\n",
      "|   |   |   |   |   |   |   |   |--- class: 0\n",
      "|   |   |   |   |   |   |--- feature_6 >  0.50\n",
      "|   |   |   |   |   |   |   |--- class: 0\n",
      "|   |   |--- feature_0 >  0.50\n",
      "|   |   |   |--- feature_7 <= 0.50\n",
      "|   |   |   |   |--- feature_9 <= 0.50\n",
      "|   |   |   |   |   |--- class: 1\n",
      "|   |   |   |   |--- feature_9 >  0.50\n",
      "|   |   |   |   |   |--- feature_3 <= 0.50\n",
      "|   |   |   |   |   |   |--- feature_5 <= 0.50\n",
      "|   |   |   |   |   |   |   |--- class: 1\n",
      "|   |   |   |   |   |   |--- feature_5 >  0.50\n",
      "|   |   |   |   |   |   |   |--- class: 0\n",
      "|   |   |   |   |   |--- feature_3 >  0.50\n",
      "|   |   |   |   |   |   |--- class: 1\n",
      "|   |   |   |--- feature_7 >  0.50\n",
      "|   |   |   |   |--- feature_4 <= 0.50\n",
      "|   |   |   |   |   |--- feature_6 <= 0.50\n",
      "|   |   |   |   |   |   |--- feature_9 <= 0.50\n",
      "|   |   |   |   |   |   |   |--- class: 1\n",
      "|   |   |   |   |   |   |--- feature_9 >  0.50\n",
      "|   |   |   |   |   |   |   |--- feature_3 <= 0.50\n",
      "|   |   |   |   |   |   |   |   |--- class: 1\n",
      "|   |   |   |   |   |   |   |--- feature_3 >  0.50\n",
      "|   |   |   |   |   |   |   |   |--- class: 0\n",
      "|   |   |   |   |   |--- feature_6 >  0.50\n",
      "|   |   |   |   |   |   |--- feature_8 <= 0.50\n",
      "|   |   |   |   |   |   |   |--- class: 1\n",
      "|   |   |   |   |   |   |--- feature_8 >  0.50\n",
      "|   |   |   |   |   |   |   |--- feature_9 <= 0.50\n",
      "|   |   |   |   |   |   |   |   |--- feature_5 <= 0.50\n",
      "|   |   |   |   |   |   |   |   |   |--- feature_3 <= 0.50\n",
      "|   |   |   |   |   |   |   |   |   |   |--- class: 0\n",
      "|   |   |   |   |   |   |   |   |   |--- feature_3 >  0.50\n",
      "|   |   |   |   |   |   |   |   |   |   |--- class: 1\n",
      "|   |   |   |   |   |   |   |   |--- feature_5 >  0.50\n",
      "|   |   |   |   |   |   |   |   |   |--- class: 1\n",
      "|   |   |   |   |   |   |   |--- feature_9 >  0.50\n",
      "|   |   |   |   |   |   |   |   |--- class: 0\n",
      "|   |   |   |   |--- feature_4 >  0.50\n",
      "|   |   |   |   |   |--- feature_3 <= 0.50\n",
      "|   |   |   |   |   |   |--- feature_9 <= 0.50\n",
      "|   |   |   |   |   |   |   |--- feature_6 <= 0.50\n",
      "|   |   |   |   |   |   |   |   |--- class: 0\n",
      "|   |   |   |   |   |   |   |--- feature_6 >  0.50\n",
      "|   |   |   |   |   |   |   |   |--- class: 1\n",
      "|   |   |   |   |   |   |--- feature_9 >  0.50\n",
      "|   |   |   |   |   |   |   |--- feature_5 <= 0.50\n",
      "|   |   |   |   |   |   |   |   |--- feature_6 <= 0.50\n",
      "|   |   |   |   |   |   |   |   |   |--- class: 1\n",
      "|   |   |   |   |   |   |   |   |--- feature_6 >  0.50\n",
      "|   |   |   |   |   |   |   |   |   |--- class: 1\n",
      "|   |   |   |   |   |   |   |--- feature_5 >  0.50\n",
      "|   |   |   |   |   |   |   |   |--- class: 1\n",
      "|   |   |   |   |   |--- feature_3 >  0.50\n",
      "|   |   |   |   |   |   |--- class: 1\n",
      "|--- feature_2 >  0.50\n",
      "|   |--- feature_3 <= 0.50\n",
      "|   |   |--- feature_0 <= 0.50\n",
      "|   |   |   |--- feature_7 <= 0.50\n",
      "|   |   |   |   |--- class: 0\n",
      "|   |   |   |--- feature_7 >  0.50\n",
      "|   |   |   |   |--- feature_8 <= 0.50\n",
      "|   |   |   |   |   |--- class: 0\n",
      "|   |   |   |   |--- feature_8 >  0.50\n",
      "|   |   |   |   |   |--- feature_4 <= 0.50\n",
      "|   |   |   |   |   |   |--- class: 0\n",
      "|   |   |   |   |   |--- feature_4 >  0.50\n",
      "|   |   |   |   |   |   |--- feature_5 <= 0.50\n",
      "|   |   |   |   |   |   |   |--- class: 0\n",
      "|   |   |   |   |   |   |--- feature_5 >  0.50\n",
      "|   |   |   |   |   |   |   |--- feature_6 <= 0.50\n",
      "|   |   |   |   |   |   |   |   |--- class: 1\n",
      "|   |   |   |   |   |   |   |--- feature_6 >  0.50\n",
      "|   |   |   |   |   |   |   |   |--- feature_1 <= 0.50\n",
      "|   |   |   |   |   |   |   |   |   |--- feature_9 <= 0.50\n",
      "|   |   |   |   |   |   |   |   |   |   |--- class: 0\n",
      "|   |   |   |   |   |   |   |   |   |--- feature_9 >  0.50\n",
      "|   |   |   |   |   |   |   |   |   |   |--- class: 1\n",
      "|   |   |   |   |   |   |   |   |--- feature_1 >  0.50\n",
      "|   |   |   |   |   |   |   |   |   |--- feature_9 <= 0.50\n",
      "|   |   |   |   |   |   |   |   |   |   |--- class: 1\n",
      "|   |   |   |   |   |   |   |   |   |--- feature_9 >  0.50\n",
      "|   |   |   |   |   |   |   |   |   |   |--- class: 0\n",
      "|   |   |--- feature_0 >  0.50\n",
      "|   |   |   |--- feature_1 <= 0.50\n",
      "|   |   |   |   |--- feature_4 <= 0.50\n",
      "|   |   |   |   |   |--- class: 0\n",
      "|   |   |   |   |--- feature_4 >  0.50\n",
      "|   |   |   |   |   |--- feature_6 <= 0.50\n",
      "|   |   |   |   |   |   |--- feature_9 <= 0.50\n",
      "|   |   |   |   |   |   |   |--- class: 0\n",
      "|   |   |   |   |   |   |--- feature_9 >  0.50\n",
      "|   |   |   |   |   |   |   |--- feature_5 <= 0.50\n",
      "|   |   |   |   |   |   |   |   |--- class: 1\n",
      "|   |   |   |   |   |   |   |--- feature_5 >  0.50\n",
      "|   |   |   |   |   |   |   |   |--- feature_8 <= 0.50\n",
      "|   |   |   |   |   |   |   |   |   |--- class: 0\n",
      "|   |   |   |   |   |   |   |   |--- feature_8 >  0.50\n",
      "|   |   |   |   |   |   |   |   |   |--- class: 0\n",
      "|   |   |   |   |   |--- feature_6 >  0.50\n",
      "|   |   |   |   |   |   |--- class: 0\n",
      "|   |   |   |--- feature_1 >  0.50\n",
      "|   |   |   |   |--- feature_4 <= 0.50\n",
      "|   |   |   |   |   |--- feature_5 <= 0.50\n",
      "|   |   |   |   |   |   |--- feature_8 <= 0.50\n",
      "|   |   |   |   |   |   |   |--- class: 0\n",
      "|   |   |   |   |   |   |--- feature_8 >  0.50\n",
      "|   |   |   |   |   |   |   |--- class: 1\n",
      "|   |   |   |   |   |--- feature_5 >  0.50\n",
      "|   |   |   |   |   |   |--- feature_6 <= 0.50\n",
      "|   |   |   |   |   |   |   |--- class: 1\n",
      "|   |   |   |   |   |   |--- feature_6 >  0.50\n",
      "|   |   |   |   |   |   |   |--- feature_7 <= 0.50\n",
      "|   |   |   |   |   |   |   |   |--- feature_8 <= 0.50\n",
      "|   |   |   |   |   |   |   |   |   |--- class: 1\n",
      "|   |   |   |   |   |   |   |   |--- feature_8 >  0.50\n",
      "|   |   |   |   |   |   |   |   |   |--- class: 1\n",
      "|   |   |   |   |   |   |   |--- feature_7 >  0.50\n",
      "|   |   |   |   |   |   |   |   |--- class: 1\n",
      "|   |   |   |   |--- feature_4 >  0.50\n",
      "|   |   |   |   |   |--- class: 1\n",
      "|   |--- feature_3 >  0.50\n",
      "|   |   |--- feature_1 <= 0.50\n",
      "|   |   |   |--- feature_8 <= 0.50\n",
      "|   |   |   |   |--- feature_0 <= 0.50\n",
      "|   |   |   |   |   |--- feature_9 <= 0.50\n",
      "|   |   |   |   |   |   |--- feature_7 <= 0.50\n",
      "|   |   |   |   |   |   |   |--- class: 1\n",
      "|   |   |   |   |   |   |--- feature_7 >  0.50\n",
      "|   |   |   |   |   |   |   |--- class: 1\n",
      "|   |   |   |   |   |--- feature_9 >  0.50\n",
      "|   |   |   |   |   |   |--- feature_5 <= 0.50\n",
      "|   |   |   |   |   |   |   |--- class: 1\n",
      "|   |   |   |   |   |   |--- feature_5 >  0.50\n",
      "|   |   |   |   |   |   |   |--- feature_6 <= 0.50\n",
      "|   |   |   |   |   |   |   |   |--- feature_7 <= 0.50\n",
      "|   |   |   |   |   |   |   |   |   |--- class: 0\n",
      "|   |   |   |   |   |   |   |   |--- feature_7 >  0.50\n",
      "|   |   |   |   |   |   |   |   |   |--- class: 1\n",
      "|   |   |   |   |   |   |   |--- feature_6 >  0.50\n",
      "|   |   |   |   |   |   |   |   |--- class: 1\n",
      "|   |   |   |   |--- feature_0 >  0.50\n",
      "|   |   |   |   |   |--- class: 1\n",
      "|   |   |   |--- feature_8 >  0.50\n",
      "|   |   |   |   |--- feature_0 <= 0.50\n",
      "|   |   |   |   |   |--- class: 1\n",
      "|   |   |   |   |--- feature_0 >  0.50\n",
      "|   |   |   |   |   |--- feature_9 <= 0.50\n",
      "|   |   |   |   |   |   |--- class: 1\n",
      "|   |   |   |   |   |--- feature_9 >  0.50\n",
      "|   |   |   |   |   |   |--- class: 0\n",
      "|   |   |--- feature_1 >  0.50\n",
      "|   |   |   |--- feature_9 <= 0.50\n",
      "|   |   |   |   |--- feature_5 <= 0.50\n",
      "|   |   |   |   |   |--- feature_4 <= 0.50\n",
      "|   |   |   |   |   |   |--- class: 1\n",
      "|   |   |   |   |   |--- feature_4 >  0.50\n",
      "|   |   |   |   |   |   |--- feature_8 <= 0.50\n",
      "|   |   |   |   |   |   |   |--- class: 1\n",
      "|   |   |   |   |   |   |--- feature_8 >  0.50\n",
      "|   |   |   |   |   |   |   |--- feature_7 <= 0.50\n",
      "|   |   |   |   |   |   |   |   |--- class: 0\n",
      "|   |   |   |   |   |   |   |--- feature_7 >  0.50\n",
      "|   |   |   |   |   |   |   |   |--- class: 1\n",
      "|   |   |   |   |--- feature_5 >  0.50\n",
      "|   |   |   |   |   |--- feature_6 <= 0.50\n",
      "|   |   |   |   |   |   |--- feature_0 <= 0.50\n",
      "|   |   |   |   |   |   |   |--- feature_8 <= 0.50\n",
      "|   |   |   |   |   |   |   |   |--- class: 0\n",
      "|   |   |   |   |   |   |   |--- feature_8 >  0.50\n",
      "|   |   |   |   |   |   |   |   |--- class: 1\n",
      "|   |   |   |   |   |   |--- feature_0 >  0.50\n",
      "|   |   |   |   |   |   |   |--- feature_8 <= 0.50\n",
      "|   |   |   |   |   |   |   |   |--- class: 1\n",
      "|   |   |   |   |   |   |   |--- feature_8 >  0.50\n",
      "|   |   |   |   |   |   |   |   |--- feature_7 <= 0.50\n",
      "|   |   |   |   |   |   |   |   |   |--- class: 1\n",
      "|   |   |   |   |   |   |   |   |--- feature_7 >  0.50\n",
      "|   |   |   |   |   |   |   |   |   |--- class: 0\n",
      "|   |   |   |   |   |--- feature_6 >  0.50\n",
      "|   |   |   |   |   |   |--- feature_8 <= 0.50\n",
      "|   |   |   |   |   |   |   |--- class: 1\n",
      "|   |   |   |   |   |   |--- feature_8 >  0.50\n",
      "|   |   |   |   |   |   |   |--- feature_7 <= 0.50\n",
      "|   |   |   |   |   |   |   |   |--- feature_0 <= 0.50\n",
      "|   |   |   |   |   |   |   |   |   |--- class: 0\n",
      "|   |   |   |   |   |   |   |   |--- feature_0 >  0.50\n",
      "|   |   |   |   |   |   |   |   |   |--- class: 1\n",
      "|   |   |   |   |   |   |   |--- feature_7 >  0.50\n",
      "|   |   |   |   |   |   |   |   |--- class: 1\n",
      "|   |   |   |--- feature_9 >  0.50\n",
      "|   |   |   |   |--- feature_0 <= 0.50\n",
      "|   |   |   |   |   |--- class: 1\n",
      "|   |   |   |   |--- feature_0 >  0.50\n",
      "|   |   |   |   |   |--- feature_6 <= 0.50\n",
      "|   |   |   |   |   |   |--- class: 1\n",
      "|   |   |   |   |   |--- feature_6 >  0.50\n",
      "|   |   |   |   |   |   |--- feature_8 <= 0.50\n",
      "|   |   |   |   |   |   |   |--- feature_7 <= 0.50\n",
      "|   |   |   |   |   |   |   |   |--- class: 1\n",
      "|   |   |   |   |   |   |   |--- feature_7 >  0.50\n",
      "|   |   |   |   |   |   |   |   |--- feature_5 <= 0.50\n",
      "|   |   |   |   |   |   |   |   |   |--- class: 1\n",
      "|   |   |   |   |   |   |   |   |--- feature_5 >  0.50\n",
      "|   |   |   |   |   |   |   |   |   |--- class: 0\n",
      "|   |   |   |   |   |   |--- feature_8 >  0.50\n",
      "|   |   |   |   |   |   |   |--- feature_4 <= 0.50\n",
      "|   |   |   |   |   |   |   |   |--- feature_7 <= 0.50\n",
      "|   |   |   |   |   |   |   |   |   |--- class: 0\n",
      "|   |   |   |   |   |   |   |   |--- feature_7 >  0.50\n",
      "|   |   |   |   |   |   |   |   |   |--- class: 1\n",
      "|   |   |   |   |   |   |   |--- feature_4 >  0.50\n",
      "|   |   |   |   |   |   |   |   |--- class: 1\n",
      "\n"
     ]
    }
   ],
   "source": [
    "print(export_text(clf))"
   ]
  },
  {
   "cell_type": "code",
   "execution_count": null,
   "id": "339916bb",
   "metadata": {
    "id": "339916bb"
   },
   "outputs": [],
   "source": [
    "# YOUR CODE HERE"
   ]
  }
 ],
 "metadata": {
  "colab": {
   "provenance": []
  },
  "kernelspec": {
   "display_name": "Python 3",
   "language": "python",
   "name": "python3"
  },
  "language_info": {
   "codemirror_mode": {
    "name": "ipython",
    "version": 3
   },
   "file_extension": ".py",
   "mimetype": "text/x-python",
   "name": "python",
   "nbconvert_exporter": "python",
   "pygments_lexer": "ipython3",
   "version": "3.8.2"
  }
 },
 "nbformat": 4,
 "nbformat_minor": 5
}
